{
 "cells": [
  {
   "cell_type": "markdown",
   "id": "cfb51eee",
   "metadata": {},
   "source": [
    "# S18 T01 Base de dades NoSQL"
   ]
  },
  {
   "cell_type": "code",
   "execution_count": 1,
   "id": "edb00291",
   "metadata": {},
   "outputs": [],
   "source": [
    "import pymongo\n",
    "import datetime\n",
    "import pprint\n",
    "from bson.objectid import ObjectId\n",
    "\n",
    "import pandas as pd\n",
    "import numpy as np"
   ]
  },
  {
   "cell_type": "markdown",
   "id": "8b591033",
   "metadata": {},
   "source": [
    "## Exercici 1\n",
    "Crea una base de dades NoSQL utilitzant MongoDB. Afegeix-li algunes dades d'exemple que et permetin comprovar que ets capaç de processar-ne la informació de manera bàsica."
   ]
  },
  {
   "cell_type": "markdown",
   "id": "26173a48",
   "metadata": {},
   "source": [
    "## Exercici 2\n",
    "Connecta la base de dades NoSQL a Python utilitzant per exemple pymongo."
   ]
  },
  {
   "cell_type": "markdown",
   "id": "18e0b945",
   "metadata": {},
   "source": [
    "Both exercises are together because I created the database using pymongo."
   ]
  },
  {
   "cell_type": "code",
   "execution_count": 2,
   "id": "4623d293",
   "metadata": {},
   "outputs": [],
   "source": [
    "# Connect to MongoDB and create the database \n",
    "client = pymongo.MongoClient('mongodb://localhost:27017/')\n",
    "db = client[\"colegioXX\"]"
   ]
  },
  {
   "cell_type": "code",
   "execution_count": 3,
   "id": "6deef107",
   "metadata": {},
   "outputs": [
    {
     "name": "stdout",
     "output_type": "stream",
     "text": [
      "Collection(Database(MongoClient(host=['localhost:27017'], document_class=dict, tz_aware=False, connect=True), 'colegioXX'), 'estudiantes')\n"
     ]
    }
   ],
   "source": [
    "# Create a collection (like a table in relational DB)\n",
    "estudiantes_col = db[\"estudiantes\"]\n",
    "print(estudiantes_col)"
   ]
  },
  {
   "cell_type": "code",
   "execution_count": 5,
   "id": "03f9a936",
   "metadata": {},
   "outputs": [
    {
     "data": {
      "text/plain": [
       "ObjectId('618be28b8fe6e2d3a9e4f19c')"
      ]
     },
     "execution_count": 5,
     "metadata": {},
     "output_type": "execute_result"
    }
   ],
   "source": [
    "# Insert one document in a collection\n",
    "est1 = {\"studID\": 1,\n",
    "         \"name\": \"Juan Pérez\",  \n",
    "         \"grades\": {\"math\": 9, \"history\": 8, \"science\": 6}, \n",
    "         \"date\": datetime.datetime.utcnow()}\n",
    "\n",
    "est1_id = estudiantes_col.insert_one(est1).inserted_id\n",
    "est1_id"
   ]
  },
  {
   "cell_type": "code",
   "execution_count": 6,
   "id": "4dda8cbe",
   "metadata": {},
   "outputs": [
    {
     "data": {
      "text/plain": [
       "ObjectId('618be28c8fe6e2d3a9e4f19d')"
      ]
     },
     "execution_count": 6,
     "metadata": {},
     "output_type": "execute_result"
    }
   ],
   "source": [
    "# Make another insert\n",
    "est2 = {\"studID\": 2,\n",
    "         \"name\": \"María Gómez\",\n",
    "         \"grades\": {\"english\": 6, \"history\": 9},\n",
    "         \"date\": datetime.datetime.utcnow()}\n",
    "\n",
    "est2_id = estudiantes_col.insert_one(est2).inserted_id\n",
    "est2_id"
   ]
  },
  {
   "cell_type": "code",
   "execution_count": 7,
   "id": "f3bac050",
   "metadata": {},
   "outputs": [
    {
     "data": {
      "text/plain": [
       "ObjectId('618be28d8fe6e2d3a9e4f19e')"
      ]
     },
     "execution_count": 7,
     "metadata": {},
     "output_type": "execute_result"
    }
   ],
   "source": [
    "# Insert another element\n",
    "est3 = {\"studID\": 3,\n",
    "         \"name\": \"Pablo Fernández\",\n",
    "         \"grades\": {\"english\": 6, \"history\": 9},\n",
    "         \"phone\": \"622791144\",\n",
    "         \"date\": datetime.datetime.utcnow()}\n",
    "\n",
    "est3_id = estudiantes_col.insert_one(est3).inserted_id\n",
    "est3_id"
   ]
  },
  {
   "cell_type": "code",
   "execution_count": 8,
   "id": "cec1a34a",
   "metadata": {},
   "outputs": [
    {
     "data": {
      "text/plain": [
       "ObjectId('618be28e8fe6e2d3a9e4f19f')"
      ]
     },
     "execution_count": 8,
     "metadata": {},
     "output_type": "execute_result"
    }
   ],
   "source": [
    "# Create a new collection and add the data\n",
    "profesores_col = db[\"profesores\"]\n",
    "\n",
    "prof1 = {\"name\": \"Estela Fernández\",\n",
    "         \"subjects\": [\"math\", \"geometry\"],\n",
    "         \"age\": 42,\n",
    "         \"phone\": [\"622794411\", \"633374466\"]}\n",
    "\n",
    "prof1_id = profesores_col.insert_one(prof1).inserted_id\n",
    "prof1_id"
   ]
  },
  {
   "cell_type": "code",
   "execution_count": 9,
   "id": "2846c065",
   "metadata": {},
   "outputs": [
    {
     "data": {
      "text/plain": [
       "[ObjectId('618be28e8fe6e2d3a9e4f1a0'),\n",
       " ObjectId('618be28e8fe6e2d3a9e4f1a1'),\n",
       " ObjectId('618be28e8fe6e2d3a9e4f1a2')]"
      ]
     },
     "execution_count": 9,
     "metadata": {},
     "output_type": "execute_result"
    }
   ],
   "source": [
    "more_profs = [{\"name\": \"Ana María García\",\n",
    "               \"subjects\": [\"history\", \"literature\", \"english\"],\n",
    "               \"age\": 32,\n",
    "               \"gender\": \"female\"},\n",
    "              {\"name\": \"Marta Pons\",\n",
    "               \"subjects\": [\"phy-ed\", \"math\"],\n",
    "               \"age\": 28,\n",
    "               \"phone\": \"623455877\",\n",
    "               \"gender\": \"female\",\n",
    "               \"degree\": \"Phd\"},\n",
    "              {\"name\": \"Martín Grassi\",\n",
    "               \"subjects\": [\"phy-ed\", \"math\"],\n",
    "               \"age\": 44,\n",
    "               \"phone\": \"623448877\",\n",
    "               \"gender\": \"male\"}]\n",
    "\n",
    "result = profesores_col.insert_many(more_profs)\n",
    "result.inserted_ids"
   ]
  },
  {
   "cell_type": "code",
   "execution_count": 10,
   "id": "6601cb4e",
   "metadata": {},
   "outputs": [
    {
     "data": {
      "text/plain": [
       "['profesores', 'estudiantes']"
      ]
     },
     "execution_count": 10,
     "metadata": {},
     "output_type": "execute_result"
    }
   ],
   "source": [
    "# What collections are in the database?\n",
    "db.list_collection_names()"
   ]
  },
  {
   "cell_type": "code",
   "execution_count": 11,
   "id": "7b013767",
   "metadata": {},
   "outputs": [
    {
     "name": "stdout",
     "output_type": "stream",
     "text": [
      "{'_id': ObjectId('618be28e8fe6e2d3a9e4f1a2'),\n",
      " 'age': 44,\n",
      " 'gender': 'male',\n",
      " 'name': 'Martín Grassi',\n",
      " 'phone': '623448877',\n",
      " 'subjects': ['phy-ed', 'math']}\n"
     ]
    }
   ],
   "source": [
    "# Search for a name in the profesores collection\n",
    "pprint.pprint(profesores_col.find_one({\"phone\": \"623448877\"})) # find the first ocurrence"
   ]
  },
  {
   "cell_type": "code",
   "execution_count": 12,
   "id": "9ecb4737",
   "metadata": {},
   "outputs": [
    {
     "name": "stdout",
     "output_type": "stream",
     "text": [
      "{'_id': ObjectId('618be28e8fe6e2d3a9e4f19f'),\n",
      " 'age': 42,\n",
      " 'name': 'Estela Fernández',\n",
      " 'phone': ['622794411', '633374466'],\n",
      " 'subjects': ['math', 'geometry']}\n",
      "{'_id': ObjectId('618be28e8fe6e2d3a9e4f1a1'),\n",
      " 'age': 28,\n",
      " 'degree': 'Phd',\n",
      " 'gender': 'female',\n",
      " 'name': 'Marta Pons',\n",
      " 'phone': '623455877',\n",
      " 'subjects': ['phy-ed', 'math']}\n",
      "{'_id': ObjectId('618be28e8fe6e2d3a9e4f1a2'),\n",
      " 'age': 44,\n",
      " 'gender': 'male',\n",
      " 'name': 'Martín Grassi',\n",
      " 'phone': '623448877',\n",
      " 'subjects': ['phy-ed', 'math']}\n"
     ]
    }
   ],
   "source": [
    "# Search for profesores with a particular subject\n",
    "for prof in profesores_col.find({\"subjects\": \"math\"}):\n",
    "    pprint.pprint(prof)"
   ]
  },
  {
   "cell_type": "code",
   "execution_count": 13,
   "id": "7cf45c94",
   "metadata": {},
   "outputs": [
    {
     "data": {
      "text/plain": [
       "{'_id': ObjectId('618be28d8fe6e2d3a9e4f19e'),\n",
       " 'studID': 3,\n",
       " 'name': 'Pablo Fernández',\n",
       " 'grades': {'english': 6, 'history': 9},\n",
       " 'phone': '622791144',\n",
       " 'date': datetime.datetime(2021, 11, 10, 15, 17, 33, 180000)}"
      ]
     },
     "execution_count": 13,
     "metadata": {},
     "output_type": "execute_result"
    }
   ],
   "source": [
    "# Find a document using its id\n",
    "data = estudiantes_col.find_one({'_id': ObjectId(est3_id)})\n",
    "data"
   ]
  },
  {
   "cell_type": "code",
   "execution_count": 21,
   "id": "bb1ea76a",
   "metadata": {},
   "outputs": [
    {
     "name": "stdout",
     "output_type": "stream",
     "text": [
      "{'_id': ObjectId('618be28e8fe6e2d3a9e4f1a1'), 'name': 'Marta Pons', 'subjects': ['phy-ed', 'math'], 'age': 28, 'phone': '623455877', 'gender': 'female', 'degree': 'Phd'}\n",
      "{'_id': ObjectId('618be28e8fe6e2d3a9e4f1a2'), 'name': 'Martín Grassi', 'subjects': ['phy-ed', 'math'], 'age': 44, 'phone': '623448877', 'gender': 'male'}\n"
     ]
    }
   ],
   "source": [
    "# Find professors name starting with M\n",
    "myquery = { \"name\": { \"$gt\": \"M\" } }\n",
    "\n",
    "mydoc = profesores_col.find(myquery)\n",
    "for prof in mydoc:\n",
    "    print(prof)"
   ]
  },
  {
   "cell_type": "code",
   "execution_count": 28,
   "id": "8a525fb3",
   "metadata": {},
   "outputs": [
    {
     "name": "stdout",
     "output_type": "stream",
     "text": [
      "{'name': 'Juan Pérez'}\n",
      "{'name': 'María Gómez'}\n",
      "{'name': 'Pablo Fernández', 'phone': '622791144'}\n"
     ]
    }
   ],
   "source": [
    "# List the students and their telephone numbers\n",
    "for x in estudiantes_col.find({},{ \"_id\": 0, \"name\": 1, \"phone\": 1 }):\n",
    "  print(x)"
   ]
  },
  {
   "cell_type": "markdown",
   "id": "f062ec73",
   "metadata": {},
   "source": [
    "## Exercici 3\n",
    "Carega algunes consultes senzilles a un Pandas Dataframe. "
   ]
  },
  {
   "cell_type": "code",
   "execution_count": 16,
   "id": "94aae1e8",
   "metadata": {},
   "outputs": [
    {
     "data": {
      "text/html": [
       "<div>\n",
       "<style scoped>\n",
       "    .dataframe tbody tr th:only-of-type {\n",
       "        vertical-align: middle;\n",
       "    }\n",
       "\n",
       "    .dataframe tbody tr th {\n",
       "        vertical-align: top;\n",
       "    }\n",
       "\n",
       "    .dataframe thead th {\n",
       "        text-align: right;\n",
       "    }\n",
       "</style>\n",
       "<table border=\"1\" class=\"dataframe\">\n",
       "  <thead>\n",
       "    <tr style=\"text-align: right;\">\n",
       "      <th></th>\n",
       "      <th>prof_code</th>\n",
       "      <th>var</th>\n",
       "      <th>value</th>\n",
       "    </tr>\n",
       "  </thead>\n",
       "  <tbody>\n",
       "    <tr>\n",
       "      <th>0</th>\n",
       "      <td>1</td>\n",
       "      <td>_id</td>\n",
       "      <td>618be28e8fe6e2d3a9e4f19f</td>\n",
       "    </tr>\n",
       "    <tr>\n",
       "      <th>1</th>\n",
       "      <td>1</td>\n",
       "      <td>name</td>\n",
       "      <td>Estela Fernández</td>\n",
       "    </tr>\n",
       "    <tr>\n",
       "      <th>2</th>\n",
       "      <td>1</td>\n",
       "      <td>subjects</td>\n",
       "      <td>math</td>\n",
       "    </tr>\n",
       "    <tr>\n",
       "      <th>3</th>\n",
       "      <td>1</td>\n",
       "      <td>subjects</td>\n",
       "      <td>geometry</td>\n",
       "    </tr>\n",
       "    <tr>\n",
       "      <th>4</th>\n",
       "      <td>1</td>\n",
       "      <td>age</td>\n",
       "      <td>42</td>\n",
       "    </tr>\n",
       "    <tr>\n",
       "      <th>5</th>\n",
       "      <td>1</td>\n",
       "      <td>phone</td>\n",
       "      <td>622794411</td>\n",
       "    </tr>\n",
       "    <tr>\n",
       "      <th>6</th>\n",
       "      <td>1</td>\n",
       "      <td>phone</td>\n",
       "      <td>633374466</td>\n",
       "    </tr>\n",
       "    <tr>\n",
       "      <th>7</th>\n",
       "      <td>2</td>\n",
       "      <td>_id</td>\n",
       "      <td>618be28e8fe6e2d3a9e4f1a0</td>\n",
       "    </tr>\n",
       "    <tr>\n",
       "      <th>8</th>\n",
       "      <td>2</td>\n",
       "      <td>name</td>\n",
       "      <td>Ana María García</td>\n",
       "    </tr>\n",
       "    <tr>\n",
       "      <th>9</th>\n",
       "      <td>2</td>\n",
       "      <td>subjects</td>\n",
       "      <td>history</td>\n",
       "    </tr>\n",
       "    <tr>\n",
       "      <th>10</th>\n",
       "      <td>2</td>\n",
       "      <td>subjects</td>\n",
       "      <td>literature</td>\n",
       "    </tr>\n",
       "    <tr>\n",
       "      <th>11</th>\n",
       "      <td>2</td>\n",
       "      <td>subjects</td>\n",
       "      <td>english</td>\n",
       "    </tr>\n",
       "    <tr>\n",
       "      <th>12</th>\n",
       "      <td>2</td>\n",
       "      <td>age</td>\n",
       "      <td>32</td>\n",
       "    </tr>\n",
       "    <tr>\n",
       "      <th>13</th>\n",
       "      <td>2</td>\n",
       "      <td>gender</td>\n",
       "      <td>female</td>\n",
       "    </tr>\n",
       "    <tr>\n",
       "      <th>14</th>\n",
       "      <td>3</td>\n",
       "      <td>_id</td>\n",
       "      <td>618be28e8fe6e2d3a9e4f1a1</td>\n",
       "    </tr>\n",
       "    <tr>\n",
       "      <th>15</th>\n",
       "      <td>3</td>\n",
       "      <td>name</td>\n",
       "      <td>Marta Pons</td>\n",
       "    </tr>\n",
       "    <tr>\n",
       "      <th>16</th>\n",
       "      <td>3</td>\n",
       "      <td>subjects</td>\n",
       "      <td>phy-ed</td>\n",
       "    </tr>\n",
       "    <tr>\n",
       "      <th>17</th>\n",
       "      <td>3</td>\n",
       "      <td>subjects</td>\n",
       "      <td>math</td>\n",
       "    </tr>\n",
       "    <tr>\n",
       "      <th>18</th>\n",
       "      <td>3</td>\n",
       "      <td>age</td>\n",
       "      <td>28</td>\n",
       "    </tr>\n",
       "    <tr>\n",
       "      <th>19</th>\n",
       "      <td>3</td>\n",
       "      <td>phone</td>\n",
       "      <td>623455877</td>\n",
       "    </tr>\n",
       "    <tr>\n",
       "      <th>20</th>\n",
       "      <td>3</td>\n",
       "      <td>gender</td>\n",
       "      <td>female</td>\n",
       "    </tr>\n",
       "    <tr>\n",
       "      <th>21</th>\n",
       "      <td>3</td>\n",
       "      <td>degree</td>\n",
       "      <td>Phd</td>\n",
       "    </tr>\n",
       "    <tr>\n",
       "      <th>22</th>\n",
       "      <td>4</td>\n",
       "      <td>_id</td>\n",
       "      <td>618be28e8fe6e2d3a9e4f1a2</td>\n",
       "    </tr>\n",
       "    <tr>\n",
       "      <th>23</th>\n",
       "      <td>4</td>\n",
       "      <td>name</td>\n",
       "      <td>Martín Grassi</td>\n",
       "    </tr>\n",
       "    <tr>\n",
       "      <th>24</th>\n",
       "      <td>4</td>\n",
       "      <td>subjects</td>\n",
       "      <td>phy-ed</td>\n",
       "    </tr>\n",
       "    <tr>\n",
       "      <th>25</th>\n",
       "      <td>4</td>\n",
       "      <td>subjects</td>\n",
       "      <td>math</td>\n",
       "    </tr>\n",
       "    <tr>\n",
       "      <th>26</th>\n",
       "      <td>4</td>\n",
       "      <td>age</td>\n",
       "      <td>44</td>\n",
       "    </tr>\n",
       "    <tr>\n",
       "      <th>27</th>\n",
       "      <td>4</td>\n",
       "      <td>phone</td>\n",
       "      <td>623448877</td>\n",
       "    </tr>\n",
       "    <tr>\n",
       "      <th>28</th>\n",
       "      <td>4</td>\n",
       "      <td>gender</td>\n",
       "      <td>male</td>\n",
       "    </tr>\n",
       "  </tbody>\n",
       "</table>\n",
       "</div>"
      ],
      "text/plain": [
       "   prof_code       var                     value\n",
       "0          1       _id  618be28e8fe6e2d3a9e4f19f\n",
       "1          1      name          Estela Fernández\n",
       "2          1  subjects                      math\n",
       "3          1  subjects                  geometry\n",
       "4          1       age                        42\n",
       "5          1     phone                 622794411\n",
       "6          1     phone                 633374466\n",
       "7          2       _id  618be28e8fe6e2d3a9e4f1a0\n",
       "8          2      name          Ana María García\n",
       "9          2  subjects                   history\n",
       "10         2  subjects                literature\n",
       "11         2  subjects                   english\n",
       "12         2       age                        32\n",
       "13         2    gender                    female\n",
       "14         3       _id  618be28e8fe6e2d3a9e4f1a1\n",
       "15         3      name                Marta Pons\n",
       "16         3  subjects                    phy-ed\n",
       "17         3  subjects                      math\n",
       "18         3       age                        28\n",
       "19         3     phone                 623455877\n",
       "20         3    gender                    female\n",
       "21         3    degree                       Phd\n",
       "22         4       _id  618be28e8fe6e2d3a9e4f1a2\n",
       "23         4      name             Martín Grassi\n",
       "24         4  subjects                    phy-ed\n",
       "25         4  subjects                      math\n",
       "26         4       age                        44\n",
       "27         4     phone                 623448877\n",
       "28         4    gender                      male"
      ]
     },
     "execution_count": 16,
     "metadata": {},
     "output_type": "execute_result"
    }
   ],
   "source": [
    "# Create a profesores dataframe\n",
    "df_prof = pd.DataFrame(columns=('prof_code', 'var', 'value'))\n",
    "\n",
    "# Define a unique code por each professor\n",
    "code = 1\n",
    "\n",
    "# Define a function to add values of variables in the dataframe\n",
    "def agregar(df, code, var, val):\n",
    "    new = {'prof_code': code, 'var': var, 'value': val}\n",
    "    df = df.append(new, ignore_index=True)\n",
    "    return df\n",
    "    \n",
    "\n",
    "# Search for every document in the collection profesores\n",
    "for prof in profesores_col.find():\n",
    "    for p in prof:\n",
    "        if type(prof[p]) is list:\n",
    "            for val in prof[p]:\n",
    "                df_prof = agregar(df_prof, code, p, val)\n",
    "        else:\n",
    "            df_prof = agregar(df_prof, code, p, prof[p])\n",
    "            \n",
    "    code += 1\n",
    "df_prof"
   ]
  },
  {
   "cell_type": "markdown",
   "id": "fd058923",
   "metadata": {},
   "source": [
    "## Exercici 4\n",
    "Genera un resum estadístic de la informació que conté la base de dades."
   ]
  },
  {
   "cell_type": "code",
   "execution_count": 24,
   "id": "4f50df99",
   "metadata": {},
   "outputs": [
    {
     "name": "stdout",
     "output_type": "stream",
     "text": [
      "Collection name: profesores\n",
      "Collection name: estudiantes\n"
     ]
    }
   ],
   "source": [
    "# Which collections are in the database?\n",
    "collist = db.list_collection_names()\n",
    "for col in collist:\n",
    "    print(\"Collection name:\",col)\n",
    "    "
   ]
  },
  {
   "cell_type": "code",
   "execution_count": 14,
   "id": "bcb127b6",
   "metadata": {},
   "outputs": [
    {
     "name": "stdout",
     "output_type": "stream",
     "text": [
      "4\n"
     ]
    }
   ],
   "source": [
    "# How many documents has the collection?\n",
    "print(profesores_col.count_documents({}))"
   ]
  },
  {
   "cell_type": "code",
   "execution_count": 15,
   "id": "affc128d",
   "metadata": {},
   "outputs": [
    {
     "name": "stdout",
     "output_type": "stream",
     "text": [
      "3\n"
     ]
    }
   ],
   "source": [
    "print(estudiantes_col.count_documents({}))"
   ]
  },
  {
   "cell_type": "code",
   "execution_count": 26,
   "id": "f5f1061b",
   "metadata": {},
   "outputs": [
    {
     "name": "stdout",
     "output_type": "stream",
     "text": [
      "Average is : 36.5\n"
     ]
    }
   ],
   "source": [
    "# What is the average age of the professors?\n",
    "suma = 0\n",
    "count = 0\n",
    "for prof in profesores_col.find():\n",
    "    for p in prof:\n",
    "        if p == \"age\":\n",
    "            suma = suma + prof[p]\n",
    "            count += 1\n",
    "        \n",
    "print(\"Average age is :\", round(suma/count,1)) "
   ]
  },
  {
   "cell_type": "code",
   "execution_count": 43,
   "id": "f4224625",
   "metadata": {},
   "outputs": [
    {
     "data": {
      "text/plain": [
       "36.5"
      ]
     },
     "execution_count": 43,
     "metadata": {},
     "output_type": "execute_result"
    }
   ],
   "source": [
    "# The average coincides with the one in the dataframe\n",
    "df_prof['value'][df_prof['var'] =='age'].mean()"
   ]
  },
  {
   "cell_type": "code",
   "execution_count": null,
   "id": "2c232f35",
   "metadata": {},
   "outputs": [],
   "source": []
  }
 ],
 "metadata": {
  "kernelspec": {
   "display_name": "Python 3",
   "language": "python",
   "name": "python3"
  },
  "language_info": {
   "codemirror_mode": {
    "name": "ipython",
    "version": 3
   },
   "file_extension": ".py",
   "mimetype": "text/x-python",
   "name": "python",
   "nbconvert_exporter": "python",
   "pygments_lexer": "ipython3",
   "version": "3.8.8"
  }
 },
 "nbformat": 4,
 "nbformat_minor": 5
}
